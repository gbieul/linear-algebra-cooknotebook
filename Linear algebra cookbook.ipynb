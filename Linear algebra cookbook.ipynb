{
 "cells": [
  {
   "cell_type": "markdown",
   "metadata": {},
   "source": [
    "## 1.0 - Algebra linear Cookbook\n",
    "***\n",
    "O objetivo destes notebooks é consolidar anotações de dois cursos principais: Mathematics for ML do Coursera, e a disciplina de Análise Estatística de Dados da Especialização em Inteligência Artificial da Poli/USP.\n",
    "***"
   ]
  },
  {
   "cell_type": "code",
   "execution_count": 3,
   "metadata": {},
   "outputs": [],
   "source": [
    "import matplotlib.pyplot as plt\n",
    "import numpy as np"
   ]
  },
  {
   "cell_type": "markdown",
   "metadata": {},
   "source": [
    "Vamos supor que tenhamos comprado _Apples_ e _Bananas_ em duas idas ao mercado, tendo gastado 8 reais e 13 reais totais em cada ida. Como descobrir quanto cada uma delas custou?\n",
    "\\begin{equation}\n",
    "2a + 3b = 8\n",
    "\\end{equation}\n",
    "\\begin{equation}\n",
    "10a + 1b = 13\n",
    "\\end{equation}\n",
    "\n",
    "Podemos traduzir este problema, no fim das contas, para matrizes:\n",
    "$$ \\begin{pmatrix} 2 & 3 \\\\ 10 & 1 \\end{pmatrix}\n",
    "%\n",
    "\\begin{bmatrix} a \\\\ b \\end{bmatrix}\n",
    "%\n",
    "=\n",
    "%\n",
    "\\begin{bmatrix} 8 \\\\ 13 \\end{bmatrix}\n",
    "$$\n",
    "Logo mais, se verá como resolve-lo."
   ]
  },
  {
   "cell_type": "markdown",
   "metadata": {},
   "source": [
    "## 1.1 Operações com vetores\n",
    "___\n",
    "Um vetor pode ser pensado como algo que se move em um espaço. Eles tem duas propriedades: **adição** e **multiplicação por um escalar**."
   ]
  },
  {
   "cell_type": "code",
   "execution_count": 38,
   "metadata": {},
   "outputs": [],
   "source": [
    "x = np.array([[1],\n",
    "              [0]])\n",
    "y = np.array([[0],\n",
    "              [1]])\n",
    "z = np.array([[1],\n",
    "              [1]])\n",
    "\n",
    "comp_x = np.array([[1],\n",
    "                   [0]])\n",
    "\n",
    "comp_y= np.array([[0],\n",
    "                  [1]])\n",
    "\n",
    "comp_x_origin = [0], [1]\n",
    "comp_y_origin = [1], [0]\n",
    "origin = [0], [0]"
   ]
  },
  {
   "cell_type": "code",
   "execution_count": 59,
   "metadata": {},
   "outputs": [
    {
     "data": {
      "image/png": "[encoded data removed]",
      "text/plain": [
       "<Figure size 360x360 with 1 Axes>"
      ]
     },
     "metadata": {
      "needs_background": "light"
     },
     "output_type": "display_data"
    }
   ],
   "source": [
    "fig, ax1= plt.subplots(1, 1, figsize=(5,5))\n",
    "\n",
    "ax1.quiver(*origin, x[0], x[1], color=[\"red\"], width=0.008, angles='xy', scale_units='xy', scale=1)\n",
    "ax1.quiver(*origin, y[0], y[1], color=[\"red\"], width=0.008, angles='xy', scale_units='xy', scale=1)\n",
    "ax1.quiver(*origin, z[0], z[1], color=[\"blue\"], width=0.005, angles='xy', scale_units='xy', scale=1)\n",
    "ax1.quiver(*comp_x_origin, comp_x[0], comp_x[1], color=[\"green\"], width=0.005, angles='xy', scale_units='xy', scale=1, data=\"test\")\n",
    "ax1.quiver(*comp_y_origin, comp_y[0], comp_y[1], color=[\"green\"], width=0.005, angles='xy', scale_units='xy', scale=1)\n",
    "\n",
    "ax1.text(1, 0.5, \"Componente y\", color=\"black\", fontsize=10)\n",
    "ax1.text(0.2, 1, \"Componente x\", color=\"black\", fontsize=10)\n",
    "\n",
    "ax1.set_xlim([-1,2])\n",
    "ax1.set_ylim([-1,2])\n",
    "ax1.set_aspect('equal')\n",
    "ax1.grid(True)"
   ]
  },
  {
   "cell_type": "markdown",
   "metadata": {},
   "source": [
    "#### Adição\n",
    "Projetamos um vetor a partir do final do outro.\n",
    "\n",
    "#### Multiplicação\n",
    "Replicamos o tamanho do vetor pela qtde de vezes do escalar.\n",
    "\n",
    "#### Ilustrando\n",
    "Dados dois vetores r = $\\begin{bmatrix} 3 \\\\ 2 \\end{bmatrix}$ e $s = \\begin{bmatrix} -1 \\\\ 2 \\end{bmatrix}$.\n",
    "\n",
    "  Então:\n",
    "$$ \n",
    "r + s = \n",
    "\\begin{bmatrix} 3 \\\\ 2 \\end{bmatrix}\n",
    "%\n",
    "+\n",
    "\\begin{bmatrix} -1 \\\\ 2 \\end{bmatrix}\n",
    "%\n",
    "=\n",
    "%\n",
    "\\begin{bmatrix} 3 + (-1) \\\\ 2 + 2 \\end{bmatrix}\n",
    "=\n",
    "\\begin{bmatrix} 2 \\\\ 4 \\end{bmatrix}\n",
    "$$\n",
    "\n",
    "Como fazemos a operação componente por componente, podemos notar a **propriedade associativa**, isto é, dados três vetores **r**, **s** e **t**, as operações $(r + s) + t$ e $r + (s + t)$ terão os mesmos resultados.\n",
    "\n",
    "#### Generalizando a noção de vetores\n",
    "Podemos usar vetores para representar **atributos** de um objeto. Pensando em uma casa com:\n",
    "\n",
    "| Casa |  |\n",
    "| --- | --- |\n",
    "| 50 | m2 |\n",
    "| 2 | camas |\n",
    "| 1 | banheiro |\n",
    "| 150 | mil reais |\n",
    "\n",
    "Podemos representá-la com $\\begin{bmatrix} 50 \\\\ 2 \\\\ 1 \\\\ 150 \\end{bmatrix}$.\n",
    "\n",
    "  Caso fossem duas casas, poderíamos ter $2 * \\begin{bmatrix} 50 \\\\ 2 \\\\ 1 \\\\ 150 \\end{bmatrix} = \\begin{bmatrix} 100 \\\\ 4 \\\\ 2 \\\\ 300 \\end{bmatrix}$. Faz sentido, não?"
   ]
  }
 ],
 "metadata": {
  "kernelspec": {
   "display_name": "Python 3",
   "language": "python",
   "name": "python3"
  },
  "language_info": {
   "codemirror_mode": {
    "name": "ipython",
    "version": 3
   },
   "file_extension": ".py",
   "mimetype": "text/x-python",
   "name": "python",
   "nbconvert_exporter": "python",
   "pygments_lexer": "ipython3",
   "version": "3.7.5"
  }
 },
 "nbformat": 4,
 "nbformat_minor": 4
}
